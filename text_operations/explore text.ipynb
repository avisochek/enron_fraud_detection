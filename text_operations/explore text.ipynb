{
 "cells": [
  {
   "cell_type": "code",
   "execution_count": 1,
   "metadata": {
    "collapsed": false
   },
   "outputs": [],
   "source": [
    "import numpy as np\n",
    "import matplotlib.pyplot as plt\n",
    "import pickle"
   ]
  },
  {
   "cell_type": "code",
   "execution_count": 48,
   "metadata": {
    "collapsed": false
   },
   "outputs": [],
   "source": [
    "### Load in text data\n",
    "with open('/home/allan/Desktop/project4_old/text_operations/word_data/word_data_v1.pkl') as f:\n",
    "    word_data=pickle.load(f)\n",
    "text_names = word_data['names']\n",
    "words = word_data['words']\n",
    "with open(\"/home/allan/Desktop/project4_old/text_operations/word_data/vectorized_data_v3.3\") as f:\n",
    "    vectorized_data=pickle.load(f)"
   ]
  },
  {
   "cell_type": "code",
   "execution_count": 49,
   "metadata": {
    "collapsed": false
   },
   "outputs": [],
   "source": [
    "### visualize number of words in different subsets of the data\n",
    "from sklearn.feature_extraction.text import TfidfVectorizer\n",
    "from sklearn.feature_extraction.text import CountVectorizer\n",
    "vectorized = TfidfVectorizer(stop_words='english')\n",
    "vectorized_words = vectorized.fit_transform(words)"
   ]
  },
  {
   "cell_type": "code",
   "execution_count": 50,
   "metadata": {
    "collapsed": true
   },
   "outputs": [],
   "source": [
    "words = vectorized.fit(words).get_feature_names()"
   ]
  },
  {
   "cell_type": "code",
   "execution_count": 150,
   "metadata": {
    "collapsed": false
   },
   "outputs": [],
   "source": [
    "mindf_vals = np.log2(np.linspace(1,2,100))/5\n",
    "maxdfs = np.amax(vectorized_words.toarray(),axis=0)\n",
    "#people_vals = np.arange(5)\n",
    "usage = sum(vectorized_words.toarray()>0.)\n",
    "#numwords = np.zeros(( len(mindf_vals), len(people_vals) ))\n",
    "#for i in range(len(mindf_vals)):\n",
    " #   for j in range(len(people_vals)):\n",
    "#        print i,j\n",
    "   #     a = mindfs>mindf_vals[i]\n",
    "    #    b = people>people_vals[j]\n",
    "     #   q=sum( a & b )\n",
    "#        numwords[i,j]=q\n",
    "poi_idx = np.where(word_data['poi'])\n",
    "non_poi_idx = np.where(np.abs(np.subtract(word_data['poi'],1)))\n",
    "poi_usage     = sum(vectorized_words.toarray()[poi_idx]>0.)\n",
    "non_poi_usage = sum(vectorized_words.toarray()[non_poi_idx]>0.)"
   ]
  },
  {
   "cell_type": "code",
   "execution_count": 38,
   "metadata": {
    "collapsed": false
   },
   "outputs": [],
   "source": [
    "plt.hist(maxdfs,bins=50)\n",
    "plt.show()"
   ]
  },
  {
   "cell_type": "code",
   "execution_count": 57,
   "metadata": {
    "collapsed": false
   },
   "outputs": [],
   "source": [
    "plt.hist(usage,bins=86)\n",
    "plt.show()"
   ]
  },
  {
   "cell_type": "code",
   "execution_count": 151,
   "metadata": {
    "collapsed": false,
    "scrolled": false
   },
   "outputs": [],
   "source": [
    "plt.hist(poi_usage,bins=14)\n",
    "plt.show()"
   ]
  },
  {
   "cell_type": "code",
   "execution_count": 178,
   "metadata": {
    "collapsed": false,
    "scrolled": true
   },
   "outputs": [
    {
     "data": {
      "text/plain": [
       "array([u'02', u'03', u'09', u'10', u'100', u'1000', u'11', u'12', u'13',\n",
       "       u'14', u'15', u'16', u'17', u'18', u'19', u'20', u'200', u'2000',\n",
       "       u'2001', u'2002', u'21', u'22', u'24', u'25', u'27', u'2702pst',\n",
       "       u'28', u'30', u'31', u'40', u'50', u'500', u'713', u'800', u'aa',\n",
       "       u'abil', u'abl', u'abov', u'accept', u'access', u'account', u'act',\n",
       "       u'action', u'activ', u'actual', u'ad', u'add', u'addit', u'address',\n",
       "       u'administr', u'advanc', u'advis', u'affili', u'afternoon',\n",
       "       u'agenc', u'agenda', u'ago', u'agre', u'agreement', u'al', u'alloc',\n",
       "       u'allow', u'alreadi', u'altern', u'alway', u'america', u'analysi',\n",
       "       u'analyst', u'andor', u'andrew', u'ani', u'ann', u'announc',\n",
       "       u'anoth', u'answer', u'anticip', u'anyon', u'anyth', u'apolog',\n",
       "       u'appear', u'appli', u'applic', u'appreci', u'approach',\n",
       "       u'appropri', u'approv', u'approxim', u'april', u'area', u'arrang',\n",
       "       u'asap', u'ask', u'assess', u'asset', u'assist', u'associ',\n",
       "       u'assum', u'assur', u'attach', u'attend', u'attent', u'august',\n",
       "       u'author', u'avail', u'avoid', u'awar', u'balanc', u'bank',\n",
       "       u'bankruptci', u'base', u'basi', u'basic', u'becaus', u'beck',\n",
       "       u'becom', u'befor', u'begin', u'behalf', u'believ', u'ben',\n",
       "       u'benefit', u'best', u'beth', u'better', u'big', u'board', u'bob',\n",
       "       u'bond', u'book', u'break', u'brian', u'brief', u'bring', u'brown',\n",
       "       u'build', u'busi', u'buy', u'buyer', u'calendar', u'california',\n",
       "       u'came', u'canada', u'cancel', u'candid', u'capac', u'capit',\n",
       "       u'care', u'case', u'cash', u'caus', u'causey', u'cc', u'center',\n",
       "       u'ceo', u'certain', u'chairman', u'challeng', u'chanc', u'chang',\n",
       "       u'charg', u'check', u'choos', u'chris', u'cindi', u'circul',\n",
       "       u'clarifi', u'clear', u'close', u'colwel', u'come', u'comment',\n",
       "       u'commerci', u'commit', u'committe', u'commod', u'communic',\n",
       "       u'communicationsenron', u'compani', u'complet', u'concept',\n",
       "       u'concern', u'conduct', u'confer', u'confidenti', u'confirm',\n",
       "       u'congratul', u'connect', u'consid', u'consider', u'consist',\n",
       "       u'consult', u'contact', u'contain', u'continu', u'contract',\n",
       "       u'contribut', u'control', u'convers', u'coordin', u'copi', u'core',\n",
       "       u'corp', u'corpor', u'correct', u'cost', u'counsel',\n",
       "       u'counterparti', u'coupl', u'cours', u'cover', u'creat', u'credit',\n",
       "       u'critic', u'current', u'custom', u'cut', u'daili', u'dan', u'data',\n",
       "       u'date', u'dave', u'david', u'day', u'deadlin', u'deal', u'dear',\n",
       "       u'debt', u'decemb', u'decid', u'decis', u'defin', u'definit',\n",
       "       u'delainey', u'deliv', u'demand', u'depart', u'desir', u'determin',\n",
       "       u'develop', u'did', u'differ', u'difficult', u'dinner', u'direct',\n",
       "       u'director', u'discuss', u'distribut', u'document', u'doe',\n",
       "       u'doesnt', u'don', u'dont', u'draft', u'dure', u'earli', u'earlier',\n",
       "       u'earn', u'easi', u'eb', u'ed', u'ee', u'effect', u'effort',\n",
       "       u'electr', u'els', u'email', u'embed', u'employ', u'employe',\n",
       "       u'ena', u'encourag', u'end', u'ene', u'energi', u'enron', u'ensur',\n",
       "       u'enter', u'entir', u'entiti', u'equiti', u'especi', u'establish',\n",
       "       u'estim', u'europ', u'evalu', u'event', u'everi', u'everyon',\n",
       "       u'exact', u'exampl', u'excel', u'execut', u'exist', u'expect',\n",
       "       u'expens', u'experi', u'experienc', u'explain', u'explor',\n",
       "       u'exposur', u'express', u'extern', u'extrem', u'face', u'facil',\n",
       "       u'fact', u'fair', u'faith', u'far', u'fax', u'februari',\n",
       "       u'feedback', u'feel', u'file', u'final', u'financ', u'financi',\n",
       "       u'firm', u'fit', u'flow', u'focus', u'folk', u'follow', u'followup',\n",
       "       u'forc', u'form', u'forum', u'forward', u'frank', u'free',\n",
       "       u'frevertnaenronenron', u'friday', u'friend', u'fulli', u'function',\n",
       "       u'fund', u'fundament', u'futur', u'fw', u'fyi', u'gain', u'gari',\n",
       "       u'gas', u'general', u'generat', u'given', u'glisan', u'global',\n",
       "       u'good', u'got', u'grant', u'great', u'greater', u'greg', u'group',\n",
       "       u'grow', u'guy', u'hand', u'handl', u'happen', u'happi', u'hard',\n",
       "       u'harri', u'havent', u'head', u'hear', u'heard', u'held', u'help',\n",
       "       u'hi', u'high', u'higher', u'highlight', u'hit', u'hold', u'home',\n",
       "       u'hope', u'hour', u'hous', u'houston', u'howev', u'id', u'idea',\n",
       "       u'im', u'immedi', u'impact', u'implement', u'import', u'improv',\n",
       "       u'includ', u'increas', u'indic', u'individu', u'industri', u'info',\n",
       "       u'inform', u'initi', u'input', u'instruct', u'integr', u'intend',\n",
       "       u'intern', u'introduc', u'invest', u'investor', u'invit', u'involv',\n",
       "       u'issu', u'item', u'ive', u'jame', u'janet', u'januari', u'jeff',\n",
       "       u'jeffrey', u'jim', u'job', u'joe', u'john', u'join', u'joseph',\n",
       "       u'jr', u'jskillin', u'juli', u'june', u'just', u'karen', u'kean',\n",
       "       u'ken', u'kenneth', u'kevin', u'key', u'kitchen',\n",
       "       u'kitchenhouectect', u'know', u'land', u'languag', u'larg',\n",
       "       u'larri', u'late', u'later', u'laura', u'lavorato', u'lawyer',\n",
       "       u'lay', u'lead', u'leader', u'leadership', u'leav', u'left',\n",
       "       u'legal', u'let', u'letter', u'level', u'like', u'limit', u'line',\n",
       "       u'link', u'liquid', u'list', u'littl', u'locat', u'long', u'look',\n",
       "       u'lose', u'loss', u'lot', u'louis', u'low', u'lower', u'maintain',\n",
       "       u'major', u'make', u'manag', u'mani', u'manner', u'march',\n",
       "       u'margin', u'mari', u'mark', u'market', u'materi', u'matter',\n",
       "       u'mean', u'meantim', u'measur', u'meet', u'member', u'memo',\n",
       "       u'mention', u'merchant', u'messag', u'met', u'michael', u'mike',\n",
       "       u'million', u'mind', u'minut', u'miss', u'mm', u'model', u'monday',\n",
       "       u'money', u'month', u'morn', u'natur', u'near', u'necessari',\n",
       "       u'need', u'negoti', u'net', u'network', u'new', u'news', u'night',\n",
       "       u'nonprivilegedpst', u'noon', u'north', u'note', u'noth', u'notic',\n",
       "       u'novemb', u'number', u'oblig', u'obtain', u'obvious', u'occur',\n",
       "       u'octob', u'offer', u'offic', u'offsit', u'ok', u'old', u'onc',\n",
       "       u'ongo', u'onli', u'onlin', u'open', u'oper', u'opportun',\n",
       "       u'option', u'order', u'organ', u'origin', u'otherwis', u'outlin',\n",
       "       u'outsid', u'paid', u'parti', u'particip', u'particular',\n",
       "       u'partner', u'pass', u'past', u'paul', u'pay', u'payment', u'peopl',\n",
       "       u'perform', u'period', u'person', u'perspect', u'peter', u'phillip',\n",
       "       u'phone', u'physic', u'pictur', u'place', u'plan', u'plant',\n",
       "       u'play', u'pleas', u'plus', u'pm', u'point', u'polici',\n",
       "       u'portfolio', u'portion', u'posit', u'possibl', u'post', u'potenti',\n",
       "       u'power', u'practic', u'prc', u'prefer', u'preliminari', u'prepar',\n",
       "       u'present', u'presid', u'press', u'pretti', u'previous', u'price',\n",
       "       u'primari', u'prior', u'probabl', u'problem', u'procedur',\n",
       "       u'proceed', u'process', u'product', u'profession', u'program',\n",
       "       u'project', u'prompt', u'propos', u'provid', u'provis', u'public',\n",
       "       u'purchas', u'purpos', u'push', u'quarter', u'question', u'quick',\n",
       "       u'quit', u'rais', u'rate', u'ray', u'reach', u'read', u'readi',\n",
       "       u'realli', u'reason', u'receiv', u'recent', u'recommend', u'record',\n",
       "       u'refer', u'reflect', u'regard', u'region', u'regulatori', u'relat',\n",
       "       u'relationship', u'releas', u'remain', u'remind', u'report',\n",
       "       u'repres', u'request', u'requir', u'research', u'reserv', u'resolv',\n",
       "       u'resourc', u'respect', u'respond', u'respons', u'rest', u'result',\n",
       "       u'retain', u'return', u'review', u'revis', u'richard', u'rick',\n",
       "       u'right', u'risk', u'rob', u'robert', u'roger', u'role', u'roll',\n",
       "       u'ron', u'room', u'rule', u'run', u'said', u'sale', u'salli',\n",
       "       u'saturday', u'say', u'schedul', u'school', u'scott', u'season',\n",
       "       u'second', u'secur', u'seek', u'seen', u'select', u'sell', u'send',\n",
       "       u'senior', u'sens', u'sent', u'separ', u'septemb', u'servic',\n",
       "       u'session', u'set', u'sever', u'share', u'sheet', u'short', u'sign',\n",
       "       u'signific', u'similar', u'sinc', u'sit', u'site', u'situat',\n",
       "       u'skill', u'skillingcorpenronenron', u'small', u'smith', u'sold',\n",
       "       u'sole', u'solut', u'someon', u'someth', u'somewhat', u'soon',\n",
       "       u'sort', u'sound', u'south', u'speak', u'speaker', u'special',\n",
       "       u'specif', u'spoke', u'spread', u'staff', u'stand', u'standard',\n",
       "       u'stanley', u'start', u'state', u'statement', u'status', u'step',\n",
       "       u'steve', u'steven', u'stock', u'stop', u'stori', u'strategi',\n",
       "       u'street', u'strong', u'structur', u'studi', u'stuff', u'subject',\n",
       "       u'substanti', u'success', u'suggest', u'suit', u'summari',\n",
       "       u'support', u'sure', u'tabl', u'taken', u'talk', u'target', u'tax',\n",
       "       u'te', u'team', u'telephon', u'tell', u'term', u'termin', u'texa',\n",
       "       u'th', u'thank', u'therefor', u'thing', u'think', u'thoma',\n",
       "       u'thought', u'thursday', u'tim', u'time', u'today', u'togeth',\n",
       "       u'told', u'tomorrow', u'took', u'topic', u'total', u'track',\n",
       "       u'trade', u'transact', u'transfer', u'transit', u'travel', u'tri',\n",
       "       u'trip', u'tuesday', u'type', u'typic', u'ultim', u'understand',\n",
       "       u'uniqu', u'unit', u'univers', u'unless', u'updat', u'use', u'util',\n",
       "       u'valu', u'various', u'veri', u'view', u'volatil', u'vs', u'wait',\n",
       "       u'want', u'washington', u'way', u'wed', u'wednesday', u'week',\n",
       "       u'weekend', u'wes', u'whalley', u'whalleyhouectect', u'whi',\n",
       "       u'wholesal', u'william', u'wish', u'wonder', u'wont', u'word',\n",
       "       u'work', u'world', u'worth', u'write', u'written', u'year',\n",
       "       u'yesterday', u'york'], \n",
       "      dtype='<U151')"
      ]
     },
     "execution_count": 178,
     "metadata": {},
     "output_type": "execute_result"
    }
   ],
   "source": [
    "np.array(words)[np.where(poi_usage>6)]"
   ]
  },
  {
   "cell_type": "code",
   "execution_count": 164,
   "metadata": {
    "collapsed": false
   },
   "outputs": [
    {
     "data": {
      "text/plain": [
       "u'oncampus'"
      ]
     },
     "execution_count": 164,
     "metadata": {},
     "output_type": "execute_result"
    }
   ],
   "source": [
    "words[27369]"
   ]
  },
  {
   "cell_type": "code",
   "execution_count": 26,
   "metadata": {
    "collapsed": false
   },
   "outputs": [
    {
     "name": "stdout",
     "output_type": "stream",
     "text": [
      "Once deleted, variables cannot be recovered. Proceed (y/[n])? y\n"
     ]
    }
   ],
   "source": [
    "numwords = np.zeros((len(mindf_vals)))\n",
    "for i in range(len(mindf_vals)):\n",
    "    numwords[i] = sum(mindfs>mindf_vals[i])\n",
    "\n",
    "\n",
    "plt.plot(mindf_vals,numwords,'ro')\n",
    "plt.show()"
   ]
  },
  {
   "cell_type": "code",
   "execution_count": 46,
   "metadata": {
    "collapsed": false
   },
   "outputs": [
    {
     "name": "stdout",
     "output_type": "stream",
     "text": [
      "Once deleted, variables cannot be recovered. Proceed (y/[n])? y\n"
     ]
    }
   ],
   "source": [
    "%reset"
   ]
  },
  {
   "cell_type": "code",
   "execution_count": null,
   "metadata": {
    "collapsed": true
   },
   "outputs": [],
   "source": [
    "import numpy as np\n",
    "from mpl_toolkits.mplot3d import Axes3D\n",
    "import matplotlib.pyplot as plt\n",
    "\n",
    "\n",
    "\n",
    "\n",
    "(X,Y,Z)=([],[],[])\n",
    "plt.show()\n",
    "for i in range(len(mindf_vals)):\n",
    "    for j in range(len(people_vals)):\n",
    "        X.append(mindf_vals[i])\n",
    "        Y.append(people_vals[j])\n",
    "        Z.append(numwords[i,j])\n",
    "        \n",
    "fig = plt.figure()\n",
    "ax = fig.add_subplot(111, projection='3d')\n",
    "ax.scatter(X,Y,Z,c='r',marker='o')\n",
    "ax.set_xlabel('X Label')\n",
    "ax.set_ylabel('Y Label')\n",
    "ax.set_zlabel('Z Label')"
   ]
  },
  {
   "cell_type": "code",
   "execution_count": 187,
   "metadata": {
    "collapsed": false
   },
   "outputs": [
    {
     "name": "stdout",
     "output_type": "stream",
     "text": [
      "127\n",
      "[u'015656' u'0316' u'0324' u'041901' u'042001' u'045' u'0759' u'080314'\n",
      " u'10019' u'10202000' u'115x' u'120000' u'1360' u'175000' u'1884' u'198'\n",
      " u'1q00' u'20800' u'225mw' u'250mwh' u'25mw' u'2600' u'26mm' u'389' u'4100'\n",
      " u'5034643820' u'50m03' u'7133324251' u'7135283728' u'7138531789'\n",
      " u'770196081' u'7x24' u'8533399' u'actu' u'alison' u'allenlonectect'\n",
      " u'applebylonectect' u'batcheld' u'baytown' u'bes' u'brownnaenron'\n",
      " u'buerkl' u'calgerpdxect' u'chewco' u'clo' u'clueless' u'constel'\n",
      " u'crosssect' u'cutter' u'dame' u'debri' u'debtorinpossess' u'designesss'\n",
      " u'detai' u'dire' u'disincent' u'dispu' u'duk' u'ertis' u'ethink'\n",
      " u'excerpt' u'extrins' u'favo' u'fernandez' u'fixedpric' u'fizer' u'flake'\n",
      " u'flatter' u'fool' u'gardin' u'gelder' u'goforward' u'hardest' u'heali'\n",
      " u'hitchcockhouectect' u'http2072119394extravaganzahtml' u'imb' u'imbalan'\n",
      " u'instil' u'iter' u'jeffmark' u'jeffskillingenroncom' u'keenanhouectect'\n",
      " u'kellermeyerhouectect' u'kingcorpenronenron' u'lb' u'lm6000s' u'ls'\n",
      " u'lunzer' u'mainzer' u'mccarrel' u'merriss' u'messr' u'mild' u'mir'\n",
      " u'mitrohouectect' u'nashvill' u'notr' u'ohpdxectect' u'oncampus'\n",
      " u'onemonth' u'onenronxg' u'oscar' u'overhang' u'oversold' u'probusi'\n",
      " u'pugest' u'rbadeernsf' u'repric' u'robinsoncorpenronenron' u'sentinel'\n",
      " u'skillingcorpenron' u'smarter' u'suttonenron' u'swirl' u'tcv' u'thornton'\n",
      " u'timbeldenenroncom' u'transco' u'tycholizcalectect' u'unrel' u'venetian'\n",
      " u'waa' u'wheatland' u'whip' u'witho' u'worthless']\n",
      "3674\n"
     ]
    }
   ],
   "source": []
  },
  {
   "cell_type": "code",
   "execution_count": 207,
   "metadata": {
    "collapsed": false
   },
   "outputs": [
    {
     "name": "stdout",
     "output_type": "stream",
     "text": [
      "127\n",
      "[u'015656' u'0316' u'0324' u'041901' u'042001' u'045' u'0759' u'080314'\n",
      " u'10019' u'10202000' u'115x' u'120000' u'1360' u'175000' u'1884' u'198'\n",
      " u'1q00' u'20800' u'225mw' u'250mwh' u'25mw' u'2600' u'26mm' u'389' u'4100'\n",
      " u'5034643820' u'50m03' u'7133324251' u'7135283728' u'7138531789'\n",
      " u'770196081' u'7x24' u'8533399' u'actu' u'alison' u'allenlonectect'\n",
      " u'applebylonectect' u'batcheld' u'baytown' u'bes' u'brownnaenron'\n",
      " u'buerkl' u'calgerpdxect' u'chewco' u'clo' u'clueless' u'constel'\n",
      " u'crosssect' u'cutter' u'dame' u'debri' u'debtorinpossess' u'designesss'\n",
      " u'detai' u'dire' u'disincent' u'dispu' u'duk' u'ertis' u'ethink'\n",
      " u'excerpt' u'extrins' u'favo' u'fernandez' u'fixedpric' u'fizer' u'flake'\n",
      " u'flatter' u'fool' u'gardin' u'gelder' u'goforward' u'hardest' u'heali'\n",
      " u'hitchcockhouectect' u'http2072119394extravaganzahtml' u'imb' u'imbalan'\n",
      " u'instil' u'iter' u'jeffmark' u'jeffskillingenroncom' u'keenanhouectect'\n",
      " u'kellermeyerhouectect' u'kingcorpenronenron' u'lb' u'lm6000s' u'ls'\n",
      " u'lunzer' u'mainzer' u'mccarrel' u'merriss' u'messr' u'mild' u'mir'\n",
      " u'mitrohouectect' u'nashvill' u'notr' u'ohpdxectect' u'oncampus'\n",
      " u'onemonth' u'onenronxg' u'oscar' u'overhang' u'oversold' u'probusi'\n",
      " u'pugest' u'rbadeernsf' u'repric' u'robinsoncorpenronenron' u'sentinel'\n",
      " u'skillingcorpenron' u'smarter' u'suttonenron' u'swirl' u'tcv' u'thornton'\n",
      " u'timbeldenenroncom' u'transco' u'tycholizcalectect' u'unrel' u'venetian'\n",
      " u'waa' u'wheatland' u'whip' u'witho' u'worthless']\n",
      "37\n",
      "[u'000' u'000000000053327' u'001' u'01' u'011441959533292' u'013373101'\n",
      " u'0226' u'0238' u'0289' u'03082001' u'0322' u'04152001' u'050901doc'\n",
      " u'0542' u'07032000' u'0913' u'092818' u'0934' u'09bi' u'09dasovich'\n",
      " u'09heitmey' u'09thank' u'100mw' u'10142000' u'1021' u'105613' u'105975'\n",
      " u'109' u'11400' u'115' u'12000mile' u'120584' u'1210' u'12192000' u'1231'\n",
      " u'1234' u'1242']\n"
     ]
    }
   ],
   "source": [
    "print sum((poi_usage>1)&(non_poi_usage<1))\n",
    "idx = np.where((poi_usage>1)&(non_poi_usage<1))\n",
    "print np.array(words)[idx]\n",
    "\n",
    "idx=np.where((poi_usage>2)&(non_poi_usage>2))\n",
    "\n",
    "print sum(np.divide(poi_usage[idx],non_poi_usage[idx])*(72/14)>2.)\n",
    "print np.array(words)[np.where(np.divide(poi_usage[idx],non_poi_usage[idx])*(72/14)>2.)]"
   ]
  }
 ],
 "metadata": {
  "kernelspec": {
   "display_name": "Python 2",
   "language": "python",
   "name": "python2"
  },
  "language_info": {
   "codemirror_mode": {
    "name": "ipython",
    "version": 2
   },
   "file_extension": ".py",
   "mimetype": "text/x-python",
   "name": "python",
   "nbconvert_exporter": "python",
   "pygments_lexer": "ipython2",
   "version": "2.7.6"
  }
 },
 "nbformat": 4,
 "nbformat_minor": 0
}
