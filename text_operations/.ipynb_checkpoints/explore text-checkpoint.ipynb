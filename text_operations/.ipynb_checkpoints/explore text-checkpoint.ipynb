{
 "cells": [
  {
   "cell_type": "code",
   "execution_count": 1,
   "metadata": {
    "collapsed": false
   },
   "outputs": [],
   "source": [
    "import numpy as np\n",
    "import matplotlib.pyplot as plt\n",
    "import pickle"
   ]
  },
  {
   "cell_type": "code",
   "execution_count": 2,
   "metadata": {
    "collapsed": false
   },
   "outputs": [],
   "source": [
    "### Load in text data\n",
    "with open('/home/allan/Desktop/project4_old/text_operations/word_data/word_data_v1.pkl') as f:\n",
    "    word_data=pickle.load(f)\n",
    "text_names = word_data['names']\n",
    "words = word_data['words']\n",
    "with open(\"/home/allan/Desktop/project4_old/text_operations/word_data/vectorized_data_v3.3\") as f:\n",
    "    vectorized_data=pickle.load(f)"
   ]
  },
  {
   "cell_type": "code",
   "execution_count": 3,
   "metadata": {
    "collapsed": true
   },
   "outputs": [],
   "source": [
    "### visualize number of words in different subsets of the data\n",
    "from sklearn.feature_extraction.text import TfidfVectorizer\n",
    "from sklearn.feature_extraction.text import CountVectorizer\n",
    "vectorized = TfidfVectorizer()\n",
    "vectorized_words = vectorized.fit_transform(words)"
   ]
  },
  {
   "cell_type": "code",
   "execution_count": 4,
   "metadata": {
    "collapsed": true
   },
   "outputs": [],
   "source": [
    "words = vectorized.fit(words).get_feature_names()"
   ]
  },
  {
   "cell_type": "code",
   "execution_count": 5,
   "metadata": {
    "collapsed": false
   },
   "outputs": [],
   "source": [
    "mindf_vals = np.log2(np.linspace(1,2,100))/5\n",
    "mindfs = np.amin(vectorized_words.toarray(),axis=0)\n",
    "#people_vals = np.arange(5)\n",
    "#people = sum(vectorized_words.toarray()>0.)\n",
    "#numwords = np.zeros(( len(mindf_vals), len(people_vals) ))\n",
    "#for i in range(len(mindf_vals)):\n",
    " #   for j in range(len(people_vals)):\n",
    "#        print i,j\n",
    "   #     a = mindfs>mindf_vals[i]\n",
    "    #    b = people>people_vals[j]\n",
    "     #   q=sum( a & b )\n",
    "#        numwords[i,j]=q\n",
    "\n",
    "\n",
    "numwords = np.zeros((len(mindf_vals)))\n",
    "for i in range(len(mindf_vals)):\n",
    "    numwords[i] = sum(mindfs>mindf_vals[i])\n",
    "\n",
    "\n",
    "plt.plot(mindf_vals,numwords,'ro')\n",
    "plt.show()"
   ]
  },
  {
   "cell_type": "code",
   "execution_count": 7,
   "metadata": {
    "collapsed": false
   },
   "outputs": [
    {
     "data": {
      "text/plain": [
       "20"
      ]
     },
     "execution_count": 7,
     "metadata": {},
     "output_type": "execute_result"
    }
   ],
   "source": [
    "np."
   ]
  },
  {
   "cell_type": "code",
   "execution_count": null,
   "metadata": {
    "collapsed": true
   },
   "outputs": [],
   "source": [
    "import numpy as np\n",
    "from mpl_toolkits.mplot3d import Axes3D\n",
    "import matplotlib.pyplot as plt\n",
    "\n",
    "\n",
    "\n",
    "\n",
    "(X,Y,Z)=([],[],[])\n",
    "plt.show()\n",
    "for i in range(len(mindf_vals)):\n",
    "    for j in range(len(people_vals)):\n",
    "        X.append(mindf_vals[i])\n",
    "        Y.append(people_vals[j])\n",
    "        Z.append(numwords[i,j])\n",
    "        \n",
    "fig = plt.figure()\n",
    "ax = fig.add_subplot(111, projection='3d')\n",
    "ax.scatter(X,Y,Z,c='r',marker='o')\n",
    "ax.set_xlabel('X Label')\n",
    "ax.set_ylabel('Y Label')\n",
    "ax.set_zlabel('Z Label')"
   ]
  },
  {
   "cell_type": "code",
   "execution_count": 22,
   "metadata": {
    "collapsed": false
   },
   "outputs": [
    {
     "data": {
      "text/plain": [
       "array([ 0.        ,  0.15200309,  0.28950662,  0.4150375 ,  0.53051472,\n",
       "        0.63742992,  0.73696559,  0.830075  ,  0.91753784,  1.        ])"
      ]
     },
     "execution_count": 22,
     "metadata": {},
     "output_type": "execute_result"
    }
   ],
   "source": []
  }
 ],
 "metadata": {
  "kernelspec": {
   "display_name": "Python 2",
   "language": "python",
   "name": "python2"
  },
  "language_info": {
   "codemirror_mode": {
    "name": "ipython",
    "version": 2
   },
   "file_extension": ".py",
   "mimetype": "text/x-python",
   "name": "python",
   "nbconvert_exporter": "python",
   "pygments_lexer": "ipython2",
   "version": "2.7.6"
  }
 },
 "nbformat": 4,
 "nbformat_minor": 0
}
